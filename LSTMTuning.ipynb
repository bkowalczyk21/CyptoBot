{
 "cells": [
  {
   "cell_type": "code",
   "execution_count": 1,
   "metadata": {},
   "outputs": [
    {
     "name": "stdout",
     "output_type": "stream",
     "text": [
      "Intel MKL WARNING: Support of Intel(R) Streaming SIMD Extensions 4.2 (Intel(R) SSE4.2) enabled only processors has been deprecated. Intel oneAPI Math Kernel Library 2025.0 will require Intel(R) Advanced Vector Extensions (Intel(R) AVX) instructions.\n",
      "Intel MKL WARNING: Support of Intel(R) Streaming SIMD Extensions 4.2 (Intel(R) SSE4.2) enabled only processors has been deprecated. Intel oneAPI Math Kernel Library 2025.0 will require Intel(R) Advanced Vector Extensions (Intel(R) AVX) instructions.\n"
     ]
    },
    {
     "name": "stderr",
     "output_type": "stream",
     "text": [
      "2023-12-07 00:54:25.309585: I tensorflow/core/platform/cpu_feature_guard.cc:182] This TensorFlow binary is optimized to use available CPU instructions in performance-critical operations.\n",
      "To enable the following instructions: SSE4.1 SSE4.2, in other operations, rebuild TensorFlow with the appropriate compiler flags.\n"
     ]
    }
   ],
   "source": [
    "import pandas as pd\n",
    "import numpy as np\n",
    "import matplotlib.pyplot as plt\n",
    "import seaborn as sns\n",
    "from sklearn.preprocessing import MinMaxScaler\n",
    "from sklearn.model_selection import train_test_split\n",
    "from sklearn.metrics import mean_squared_error, mean_absolute_error, r2_score\n",
    "from keras.models import Sequential\n",
    "from keras.layers import Dense, LSTM, Dropout, GRU, Bidirectional\n",
    "from keras.optimizers import SGD, Adam\n",
    "from CoinbaseData import CoinbaseDataCollector\n",
    "from ModelTuning import LSTMModelTuning"
   ]
  },
  {
   "cell_type": "code",
   "execution_count": 2,
   "metadata": {},
   "outputs": [],
   "source": [
    "#cb_collector = CoinbaseDataCollector()\n",
    "#btc_frames = cb_collector.get_historical_prices_all_granularities('BTC-USD')"
   ]
  },
  {
   "cell_type": "code",
   "execution_count": 3,
   "metadata": {},
   "outputs": [],
   "source": [
    "avax = pd.read_csv('data/AVAX-USD_3600_prices.csv')"
   ]
  },
  {
   "cell_type": "code",
   "execution_count": 4,
   "metadata": {},
   "outputs": [],
   "source": [
    "avax_lstm = LSTMModelTuning(avax)"
   ]
  },
  {
   "cell_type": "code",
   "execution_count": 5,
   "metadata": {},
   "outputs": [
    {
     "name": "stdout",
     "output_type": "stream",
     "text": [
      "(3676, 120, 1)\n",
      "(3676, 24, 1)\n",
      "(15138, 120, 1)\n",
      "(15138, 24, 1)\n"
     ]
    }
   ],
   "source": [
    "print(avax_lstm.X_test.shape)\n",
    "print(avax_lstm.Y_test.shape)\n",
    "print(avax_lstm.X_train.shape)\n",
    "print(avax_lstm.Y_train.shape)"
   ]
  },
  {
   "cell_type": "code",
   "execution_count": 6,
   "metadata": {},
   "outputs": [
    {
     "name": "stdout",
     "output_type": "stream",
     "text": [
      "Trial 4 Complete [00h 06m 48s]\n",
      "mse: 0.111122265458107\n",
      "\n",
      "Best mse So Far: 0.111122265458107\n",
      "Total elapsed time: 00h 59m 01s\n",
      "Results summary\n",
      "Results in tuning/untitled_project\n",
      "Showing 10 best trials\n",
      "Objective(name=\"mse\", direction=\"min\")\n",
      "\n",
      "Trial 3 summary\n",
      "Hyperparameters:\n",
      "input_units: 50\n",
      "dropout: 0.30000000000000004\n",
      "n_layers: 1\n",
      "units_0: 50\n",
      "dropout_0: 0.4\n",
      "activation: sigmoid\n",
      "units_1: 500\n",
      "dropout_1: 0.4\n",
      "units_2: 100\n",
      "dropout_2: 0.5\n",
      "units_3: 100\n",
      "dropout_3: 0.5\n",
      "units_last: 450\n",
      "Score: 0.111122265458107\n",
      "\n",
      "Trial 2 summary\n",
      "Hyperparameters:\n",
      "input_units: 100\n",
      "dropout: 0.4\n",
      "n_layers: 4\n",
      "units_0: 300\n",
      "dropout_0: 0.30000000000000004\n",
      "activation: relu\n",
      "units_1: 300\n",
      "dropout_1: 0.4\n",
      "units_2: 350\n",
      "dropout_2: 0.4\n",
      "units_3: 50\n",
      "dropout_3: 0.1\n",
      "units_last: 50\n",
      "Score: 0.11118040978908539\n",
      "\n",
      "Trial 1 summary\n",
      "Hyperparameters:\n",
      "input_units: 500\n",
      "dropout: 0.1\n",
      "n_layers: 4\n",
      "units_0: 450\n",
      "dropout_0: 0.1\n",
      "activation: tanh\n",
      "units_1: 50\n",
      "dropout_1: 0.1\n",
      "units_2: 50\n",
      "dropout_2: 0.1\n",
      "units_3: 50\n",
      "dropout_3: 0.1\n",
      "Traceback (most recent call last):\n",
      "  File \"/opt/anaconda3/envs/crypto_rnns/lib/python3.9/site-packages/keras_tuner/src/engine/base_tuner.py\", line 273, in _try_run_and_update_trial\n",
      "    self._run_and_update_trial(trial, *fit_args, **fit_kwargs)\n",
      "  File \"/opt/anaconda3/envs/crypto_rnns/lib/python3.9/site-packages/keras_tuner/src/engine/base_tuner.py\", line 238, in _run_and_update_trial\n",
      "    results = self.run_trial(trial, *fit_args, **fit_kwargs)\n",
      "  File \"/opt/anaconda3/envs/crypto_rnns/lib/python3.9/site-packages/keras_tuner/src/engine/tuner.py\", line 314, in run_trial\n",
      "    obj_value = self._build_and_fit_model(trial, *args, **copied_kwargs)\n",
      "  File \"/opt/anaconda3/envs/crypto_rnns/lib/python3.9/site-packages/keras_tuner/src/engine/tuner.py\", line 233, in _build_and_fit_model\n",
      "    results = self.hypermodel.fit(hp, model, *args, **kwargs)\n",
      "  File \"/opt/anaconda3/envs/crypto_rnns/lib/python3.9/site-packages/keras_tuner/src/engine/hypermodel.py\", line 149, in fit\n",
      "    return model.fit(*args, **kwargs)\n",
      "  File \"/opt/anaconda3/envs/crypto_rnns/lib/python3.9/site-packages/keras/utils/traceback_utils.py\", line 70, in error_handler\n",
      "    raise e.with_traceback(filtered_tb) from None\n",
      "  File \"/var/folders/7k/6nbtrgkx3g56v2743d5zs9q00000gn/T/__autograph_generated_filef1qt7qh6.py\", line 15, in tf__train_function\n",
      "    retval_ = ag__.converted_call(ag__.ld(step_function), (ag__.ld(self), ag__.ld(iterator)), None, fscope)\n",
      "ValueError: in user code:\n",
      "\n",
      "    File \"/opt/anaconda3/envs/crypto_rnns/lib/python3.9/site-packages/keras/engine/training.py\", line 1284, in train_function  *\n",
      "        return step_function(self, iterator)\n",
      "    File \"/opt/anaconda3/envs/crypto_rnns/lib/python3.9/site-packages/keras/engine/training.py\", line 1268, in step_function  **\n",
      "        outputs = model.distribute_strategy.run(run_step, args=(data,))\n",
      "    File \"/opt/anaconda3/envs/crypto_rnns/lib/python3.9/site-packages/keras/engine/training.py\", line 1249, in run_step  **\n",
      "        outputs = model.train_step(data)\n",
      "    File \"/opt/anaconda3/envs/crypto_rnns/lib/python3.9/site-packages/keras/engine/training.py\", line 1051, in train_step\n",
      "        loss = self.compute_loss(x, y, y_pred, sample_weight)\n",
      "    File \"/opt/anaconda3/envs/crypto_rnns/lib/python3.9/site-packages/keras/engine/training.py\", line 1109, in compute_loss\n",
      "        return self.compiled_loss(\n",
      "    File \"/opt/anaconda3/envs/crypto_rnns/lib/python3.9/site-packages/keras/engine/compile_utils.py\", line 265, in __call__\n",
      "        loss_value = loss_obj(y_t, y_p, sample_weight=sw)\n",
      "    File \"/opt/anaconda3/envs/crypto_rnns/lib/python3.9/site-packages/keras/losses.py\", line 142, in __call__\n",
      "        losses = call_fn(y_true, y_pred)\n",
      "    File \"/opt/anaconda3/envs/crypto_rnns/lib/python3.9/site-packages/keras/losses.py\", line 268, in call  **\n",
      "        return ag_fn(y_true, y_pred, **self._fn_kwargs)\n",
      "    File \"/opt/anaconda3/envs/crypto_rnns/lib/python3.9/site-packages/keras/losses.py\", line 1470, in mean_squared_error\n",
      "        return backend.mean(tf.math.squared_difference(y_pred, y_true), axis=-1)\n",
      "\n",
      "    ValueError: Dimensions must be equal, but are 120 and 24 for '{{node mean_squared_error/SquaredDifference}} = SquaredDifference[T=DT_FLOAT](sequential/dense/Tanh, IteratorGetNext:1)' with input shapes: [?,120,24], [?,24,1].\n",
      "\n",
      "\n",
      "\n",
      "Trial 0 summary\n",
      "Hyperparameters:\n",
      "input_units: 100\n",
      "dropout: 0.2\n",
      "n_layers: 1\n",
      "units_0: 300\n",
      "dropout_0: 0.4\n",
      "activation: relu\n",
      "Traceback (most recent call last):\n",
      "  File \"/opt/anaconda3/envs/crypto_rnns/lib/python3.9/site-packages/keras_tuner/src/engine/base_tuner.py\", line 273, in _try_run_and_update_trial\n",
      "    self._run_and_update_trial(trial, *fit_args, **fit_kwargs)\n",
      "  File \"/opt/anaconda3/envs/crypto_rnns/lib/python3.9/site-packages/keras_tuner/src/engine/base_tuner.py\", line 238, in _run_and_update_trial\n",
      "    results = self.run_trial(trial, *fit_args, **fit_kwargs)\n",
      "  File \"/opt/anaconda3/envs/crypto_rnns/lib/python3.9/site-packages/keras_tuner/src/engine/tuner.py\", line 314, in run_trial\n",
      "    obj_value = self._build_and_fit_model(trial, *args, **copied_kwargs)\n",
      "  File \"/opt/anaconda3/envs/crypto_rnns/lib/python3.9/site-packages/keras_tuner/src/engine/tuner.py\", line 233, in _build_and_fit_model\n",
      "    results = self.hypermodel.fit(hp, model, *args, **kwargs)\n",
      "  File \"/opt/anaconda3/envs/crypto_rnns/lib/python3.9/site-packages/keras_tuner/src/engine/hypermodel.py\", line 149, in fit\n",
      "    return model.fit(*args, **kwargs)\n",
      "  File \"/opt/anaconda3/envs/crypto_rnns/lib/python3.9/site-packages/keras/utils/traceback_utils.py\", line 70, in error_handler\n",
      "    raise e.with_traceback(filtered_tb) from None\n",
      "  File \"/var/folders/7k/6nbtrgkx3g56v2743d5zs9q00000gn/T/__autograph_generated_filef1qt7qh6.py\", line 15, in tf__train_function\n",
      "    retval_ = ag__.converted_call(ag__.ld(step_function), (ag__.ld(self), ag__.ld(iterator)), None, fscope)\n",
      "ValueError: in user code:\n",
      "\n",
      "    File \"/opt/anaconda3/envs/crypto_rnns/lib/python3.9/site-packages/keras/engine/training.py\", line 1284, in train_function  *\n",
      "        return step_function(self, iterator)\n",
      "    File \"/opt/anaconda3/envs/crypto_rnns/lib/python3.9/site-packages/keras/engine/training.py\", line 1268, in step_function  **\n",
      "        outputs = model.distribute_strategy.run(run_step, args=(data,))\n",
      "    File \"/opt/anaconda3/envs/crypto_rnns/lib/python3.9/site-packages/keras/engine/training.py\", line 1249, in run_step  **\n",
      "        outputs = model.train_step(data)\n",
      "    File \"/opt/anaconda3/envs/crypto_rnns/lib/python3.9/site-packages/keras/engine/training.py\", line 1051, in train_step\n",
      "        loss = self.compute_loss(x, y, y_pred, sample_weight)\n",
      "    File \"/opt/anaconda3/envs/crypto_rnns/lib/python3.9/site-packages/keras/engine/training.py\", line 1109, in compute_loss\n",
      "        return self.compiled_loss(\n",
      "    File \"/opt/anaconda3/envs/crypto_rnns/lib/python3.9/site-packages/keras/engine/compile_utils.py\", line 265, in __call__\n",
      "        loss_value = loss_obj(y_t, y_p, sample_weight=sw)\n",
      "    File \"/opt/anaconda3/envs/crypto_rnns/lib/python3.9/site-packages/keras/losses.py\", line 142, in __call__\n",
      "        losses = call_fn(y_true, y_pred)\n",
      "    File \"/opt/anaconda3/envs/crypto_rnns/lib/python3.9/site-packages/keras/losses.py\", line 268, in call  **\n",
      "        return ag_fn(y_true, y_pred, **self._fn_kwargs)\n",
      "    File \"/opt/anaconda3/envs/crypto_rnns/lib/python3.9/site-packages/keras/losses.py\", line 1470, in mean_squared_error\n",
      "        return backend.mean(tf.math.squared_difference(y_pred, y_true), axis=-1)\n",
      "\n",
      "    ValueError: Dimensions must be equal, but are 120 and 24 for '{{node mean_squared_error/SquaredDifference}} = SquaredDifference[T=DT_FLOAT](sequential/dense/Relu, IteratorGetNext:1)' with input shapes: [?,120,24], [?,24,1].\n",
      "\n",
      "\n",
      "Input Shape: (120, 1)\n",
      "Output Shape: (24, 1)\n"
     ]
    },
    {
     "name": "stderr",
     "output_type": "stream",
     "text": [
      "2023-12-07 01:15:51.158790: I tensorflow/core/common_runtime/executor.cc:1197] [/device:CPU:0] (DEBUG INFO) Executor start aborting (this does not indicate an error and you can ignore this message): INVALID_ARGUMENT: You must feed a value for placeholder tensor 'gradients/split_2_grad/concat/split_2/split_dim' with dtype int32\n",
      "\t [[{{node gradients/split_2_grad/concat/split_2/split_dim}}]]\n",
      "2023-12-07 01:15:51.159811: I tensorflow/core/common_runtime/executor.cc:1197] [/device:CPU:0] (DEBUG INFO) Executor start aborting (this does not indicate an error and you can ignore this message): INVALID_ARGUMENT: You must feed a value for placeholder tensor 'gradients/split_grad/concat/split/split_dim' with dtype int32\n",
      "\t [[{{node gradients/split_grad/concat/split/split_dim}}]]\n",
      "2023-12-07 01:15:51.160560: I tensorflow/core/common_runtime/executor.cc:1197] [/device:CPU:0] (DEBUG INFO) Executor start aborting (this does not indicate an error and you can ignore this message): INVALID_ARGUMENT: You must feed a value for placeholder tensor 'gradients/split_1_grad/concat/split_1/split_dim' with dtype int32\n",
      "\t [[{{node gradients/split_1_grad/concat/split_1/split_dim}}]]\n",
      "2023-12-07 01:15:51.264391: I tensorflow/core/common_runtime/executor.cc:1197] [/device:CPU:0] (DEBUG INFO) Executor start aborting (this does not indicate an error and you can ignore this message): INVALID_ARGUMENT: You must feed a value for placeholder tensor 'gradients/split_2_grad/concat/split_2/split_dim' with dtype int32\n",
      "\t [[{{node gradients/split_2_grad/concat/split_2/split_dim}}]]\n",
      "2023-12-07 01:15:51.265076: I tensorflow/core/common_runtime/executor.cc:1197] [/device:CPU:0] (DEBUG INFO) Executor start aborting (this does not indicate an error and you can ignore this message): INVALID_ARGUMENT: You must feed a value for placeholder tensor 'gradients/split_grad/concat/split/split_dim' with dtype int32\n",
      "\t [[{{node gradients/split_grad/concat/split/split_dim}}]]\n",
      "2023-12-07 01:15:51.265628: I tensorflow/core/common_runtime/executor.cc:1197] [/device:CPU:0] (DEBUG INFO) Executor start aborting (this does not indicate an error and you can ignore this message): INVALID_ARGUMENT: You must feed a value for placeholder tensor 'gradients/split_1_grad/concat/split_1/split_dim' with dtype int32\n",
      "\t [[{{node gradients/split_1_grad/concat/split_1/split_dim}}]]\n",
      "2023-12-07 01:15:51.456853: I tensorflow/core/common_runtime/executor.cc:1197] [/device:CPU:0] (DEBUG INFO) Executor start aborting (this does not indicate an error and you can ignore this message): INVALID_ARGUMENT: You must feed a value for placeholder tensor 'gradients/split_2_grad/concat/split_2/split_dim' with dtype int32\n",
      "\t [[{{node gradients/split_2_grad/concat/split_2/split_dim}}]]\n",
      "2023-12-07 01:15:51.458335: I tensorflow/core/common_runtime/executor.cc:1197] [/device:CPU:0] (DEBUG INFO) Executor start aborting (this does not indicate an error and you can ignore this message): INVALID_ARGUMENT: You must feed a value for placeholder tensor 'gradients/split_grad/concat/split/split_dim' with dtype int32\n",
      "\t [[{{node gradients/split_grad/concat/split/split_dim}}]]\n",
      "2023-12-07 01:15:51.459016: I tensorflow/core/common_runtime/executor.cc:1197] [/device:CPU:0] (DEBUG INFO) Executor start aborting (this does not indicate an error and you can ignore this message): INVALID_ARGUMENT: You must feed a value for placeholder tensor 'gradients/split_1_grad/concat/split_1/split_dim' with dtype int32\n",
      "\t [[{{node gradients/split_1_grad/concat/split_1/split_dim}}]]\n"
     ]
    }
   ],
   "source": [
    "avax_model, avax_params = avax_lstm.tune_model(epochs=4, max_trials=4, executions_per_trial=1)"
   ]
  },
  {
   "cell_type": "code",
   "execution_count": 7,
   "metadata": {},
   "outputs": [
    {
     "name": "stdout",
     "output_type": "stream",
     "text": [
      "Model: \"sequential\"\n",
      "_________________________________________________________________\n",
      " Layer (type)                Output Shape              Param #   \n",
      "=================================================================\n",
      " lstm (LSTM)                 (None, 120, 50)           10400     \n",
      "                                                                 \n",
      " dropout (Dropout)           (None, 120, 50)           0         \n",
      "                                                                 \n",
      " lstm_1 (LSTM)               (None, 120, 50)           20200     \n",
      "                                                                 \n",
      " dropout_1 (Dropout)         (None, 120, 50)           0         \n",
      "                                                                 \n",
      " lstm_2 (LSTM)               (None, 450)               901800    \n",
      "                                                                 \n",
      " dense (Dense)               (None, 24)                10824     \n",
      "                                                                 \n",
      "=================================================================\n",
      "Total params: 943,224\n",
      "Trainable params: 943,224\n",
      "Non-trainable params: 0\n",
      "_________________________________________________________________\n"
     ]
    }
   ],
   "source": [
    "avax_model.summary()"
   ]
  },
  {
   "cell_type": "code",
   "execution_count": 9,
   "metadata": {},
   "outputs": [
    {
     "name": "stdout",
     "output_type": "stream",
     "text": [
      "Model: \"sequential\"\n",
      "_________________________________________________________________\n",
      " Layer (type)                Output Shape              Param #   \n",
      "=================================================================\n",
      " lstm (LSTM)                 (None, 120, 50)           10400     \n",
      "                                                                 \n",
      " dropout (Dropout)           (None, 120, 50)           0         \n",
      "                                                                 \n",
      " lstm_1 (LSTM)               (None, 120, 50)           20200     \n",
      "                                                                 \n",
      " dropout_1 (Dropout)         (None, 120, 50)           0         \n",
      "                                                                 \n",
      " lstm_2 (LSTM)               (None, 450)               901800    \n",
      "                                                                 \n",
      " dense (Dense)               (None, 24)                10824     \n",
      "                                                                 \n",
      "=================================================================\n",
      "Total params: 943,224\n",
      "Trainable params: 943,224\n",
      "Non-trainable params: 0\n",
      "_________________________________________________________________\n"
     ]
    }
   ],
   "source": [
    "avax_lstm.save(avax_model, 'models/avax_lstm')"
   ]
  },
  {
   "cell_type": "code",
   "execution_count": 10,
   "metadata": {},
   "outputs": [
    {
     "name": "stderr",
     "output_type": "stream",
     "text": [
      "2023-12-07 01:42:23.213746: I tensorflow/core/common_runtime/executor.cc:1197] [/device:CPU:0] (DEBUG INFO) Executor start aborting (this does not indicate an error and you can ignore this message): INVALID_ARGUMENT: You must feed a value for placeholder tensor 'gradients/split_2_grad/concat/split_2/split_dim' with dtype int32\n",
      "\t [[{{node gradients/split_2_grad/concat/split_2/split_dim}}]]\n",
      "2023-12-07 01:42:23.214679: I tensorflow/core/common_runtime/executor.cc:1197] [/device:CPU:0] (DEBUG INFO) Executor start aborting (this does not indicate an error and you can ignore this message): INVALID_ARGUMENT: You must feed a value for placeholder tensor 'gradients/split_grad/concat/split/split_dim' with dtype int32\n",
      "\t [[{{node gradients/split_grad/concat/split/split_dim}}]]\n",
      "2023-12-07 01:42:23.215246: I tensorflow/core/common_runtime/executor.cc:1197] [/device:CPU:0] (DEBUG INFO) Executor start aborting (this does not indicate an error and you can ignore this message): INVALID_ARGUMENT: You must feed a value for placeholder tensor 'gradients/split_1_grad/concat/split_1/split_dim' with dtype int32\n",
      "\t [[{{node gradients/split_1_grad/concat/split_1/split_dim}}]]\n",
      "2023-12-07 01:42:23.298959: I tensorflow/core/common_runtime/executor.cc:1197] [/device:CPU:0] (DEBUG INFO) Executor start aborting (this does not indicate an error and you can ignore this message): INVALID_ARGUMENT: You must feed a value for placeholder tensor 'gradients/split_2_grad/concat/split_2/split_dim' with dtype int32\n",
      "\t [[{{node gradients/split_2_grad/concat/split_2/split_dim}}]]\n",
      "2023-12-07 01:42:23.299608: I tensorflow/core/common_runtime/executor.cc:1197] [/device:CPU:0] (DEBUG INFO) Executor start aborting (this does not indicate an error and you can ignore this message): INVALID_ARGUMENT: You must feed a value for placeholder tensor 'gradients/split_grad/concat/split/split_dim' with dtype int32\n",
      "\t [[{{node gradients/split_grad/concat/split/split_dim}}]]\n",
      "2023-12-07 01:42:23.300724: I tensorflow/core/common_runtime/executor.cc:1197] [/device:CPU:0] (DEBUG INFO) Executor start aborting (this does not indicate an error and you can ignore this message): INVALID_ARGUMENT: You must feed a value for placeholder tensor 'gradients/split_1_grad/concat/split_1/split_dim' with dtype int32\n",
      "\t [[{{node gradients/split_1_grad/concat/split_1/split_dim}}]]\n",
      "2023-12-07 01:42:23.387859: I tensorflow/core/common_runtime/executor.cc:1197] [/device:CPU:0] (DEBUG INFO) Executor start aborting (this does not indicate an error and you can ignore this message): INVALID_ARGUMENT: You must feed a value for placeholder tensor 'gradients/split_2_grad/concat/split_2/split_dim' with dtype int32\n",
      "\t [[{{node gradients/split_2_grad/concat/split_2/split_dim}}]]\n",
      "2023-12-07 01:42:23.388615: I tensorflow/core/common_runtime/executor.cc:1197] [/device:CPU:0] (DEBUG INFO) Executor start aborting (this does not indicate an error and you can ignore this message): INVALID_ARGUMENT: You must feed a value for placeholder tensor 'gradients/split_grad/concat/split/split_dim' with dtype int32\n",
      "\t [[{{node gradients/split_grad/concat/split/split_dim}}]]\n",
      "2023-12-07 01:42:23.389187: I tensorflow/core/common_runtime/executor.cc:1197] [/device:CPU:0] (DEBUG INFO) Executor start aborting (this does not indicate an error and you can ignore this message): INVALID_ARGUMENT: You must feed a value for placeholder tensor 'gradients/split_1_grad/concat/split_1/split_dim' with dtype int32\n",
      "\t [[{{node gradients/split_1_grad/concat/split_1/split_dim}}]]\n"
     ]
    },
    {
     "name": "stdout",
     "output_type": "stream",
     "text": [
      "115/115 [==============================] - 9s 73ms/step\n"
     ]
    }
   ],
   "source": [
    "y_pred = avax_lstm.predict()"
   ]
  },
  {
   "cell_type": "code",
   "execution_count": 14,
   "metadata": {},
   "outputs": [],
   "source": [
    "y_pred = pd.DataFrame(y_pred)"
   ]
  },
  {
   "cell_type": "code",
   "execution_count": 15,
   "metadata": {},
   "outputs": [
    {
     "data": {
      "text/html": [
       "<div>\n",
       "<style scoped>\n",
       "    .dataframe tbody tr th:only-of-type {\n",
       "        vertical-align: middle;\n",
       "    }\n",
       "\n",
       "    .dataframe tbody tr th {\n",
       "        vertical-align: top;\n",
       "    }\n",
       "\n",
       "    .dataframe thead th {\n",
       "        text-align: right;\n",
       "    }\n",
       "</style>\n",
       "<table border=\"1\" class=\"dataframe\">\n",
       "  <thead>\n",
       "    <tr style=\"text-align: right;\">\n",
       "      <th></th>\n",
       "      <th>0</th>\n",
       "      <th>1</th>\n",
       "      <th>2</th>\n",
       "      <th>3</th>\n",
       "      <th>4</th>\n",
       "      <th>5</th>\n",
       "      <th>6</th>\n",
       "      <th>7</th>\n",
       "      <th>8</th>\n",
       "      <th>9</th>\n",
       "      <th>...</th>\n",
       "      <th>14</th>\n",
       "      <th>15</th>\n",
       "      <th>16</th>\n",
       "      <th>17</th>\n",
       "      <th>18</th>\n",
       "      <th>19</th>\n",
       "      <th>20</th>\n",
       "      <th>21</th>\n",
       "      <th>22</th>\n",
       "      <th>23</th>\n",
       "    </tr>\n",
       "  </thead>\n",
       "  <tbody>\n",
       "    <tr>\n",
       "      <th>count</th>\n",
       "      <td>3676.000000</td>\n",
       "      <td>3676.000000</td>\n",
       "      <td>3676.000000</td>\n",
       "      <td>3676.000000</td>\n",
       "      <td>3676.000000</td>\n",
       "      <td>3676.000000</td>\n",
       "      <td>3676.000000</td>\n",
       "      <td>3676.000000</td>\n",
       "      <td>3676.000000</td>\n",
       "      <td>3676.000000</td>\n",
       "      <td>...</td>\n",
       "      <td>3676.000000</td>\n",
       "      <td>3676.000000</td>\n",
       "      <td>3676.000000</td>\n",
       "      <td>3676.000000</td>\n",
       "      <td>3676.000000</td>\n",
       "      <td>3676.000000</td>\n",
       "      <td>3676.000000</td>\n",
       "      <td>3676.000000</td>\n",
       "      <td>3676.000000</td>\n",
       "      <td>3676.000000</td>\n",
       "    </tr>\n",
       "    <tr>\n",
       "      <th>mean</th>\n",
       "      <td>10.660001</td>\n",
       "      <td>10.660001</td>\n",
       "      <td>10.660001</td>\n",
       "      <td>10.660001</td>\n",
       "      <td>10.660001</td>\n",
       "      <td>10.660001</td>\n",
       "      <td>10.660001</td>\n",
       "      <td>10.660001</td>\n",
       "      <td>10.660001</td>\n",
       "      <td>10.660001</td>\n",
       "      <td>...</td>\n",
       "      <td>10.660001</td>\n",
       "      <td>10.660001</td>\n",
       "      <td>10.660001</td>\n",
       "      <td>10.660001</td>\n",
       "      <td>10.660001</td>\n",
       "      <td>10.660001</td>\n",
       "      <td>10.660001</td>\n",
       "      <td>10.660001</td>\n",
       "      <td>10.660001</td>\n",
       "      <td>10.660001</td>\n",
       "    </tr>\n",
       "    <tr>\n",
       "      <th>std</th>\n",
       "      <td>0.000135</td>\n",
       "      <td>0.000135</td>\n",
       "      <td>0.000135</td>\n",
       "      <td>0.000135</td>\n",
       "      <td>0.000135</td>\n",
       "      <td>0.000135</td>\n",
       "      <td>0.000135</td>\n",
       "      <td>0.000135</td>\n",
       "      <td>0.000135</td>\n",
       "      <td>0.000135</td>\n",
       "      <td>...</td>\n",
       "      <td>0.000135</td>\n",
       "      <td>0.000135</td>\n",
       "      <td>0.000135</td>\n",
       "      <td>0.000135</td>\n",
       "      <td>0.000135</td>\n",
       "      <td>0.000135</td>\n",
       "      <td>0.000135</td>\n",
       "      <td>0.000135</td>\n",
       "      <td>0.000135</td>\n",
       "      <td>0.000135</td>\n",
       "    </tr>\n",
       "    <tr>\n",
       "      <th>min</th>\n",
       "      <td>10.660000</td>\n",
       "      <td>10.660000</td>\n",
       "      <td>10.660000</td>\n",
       "      <td>10.660000</td>\n",
       "      <td>10.660000</td>\n",
       "      <td>10.660000</td>\n",
       "      <td>10.660000</td>\n",
       "      <td>10.660000</td>\n",
       "      <td>10.660000</td>\n",
       "      <td>10.660000</td>\n",
       "      <td>...</td>\n",
       "      <td>10.660000</td>\n",
       "      <td>10.660000</td>\n",
       "      <td>10.660000</td>\n",
       "      <td>10.660000</td>\n",
       "      <td>10.660000</td>\n",
       "      <td>10.660000</td>\n",
       "      <td>10.660000</td>\n",
       "      <td>10.660000</td>\n",
       "      <td>10.660000</td>\n",
       "      <td>10.660000</td>\n",
       "    </tr>\n",
       "    <tr>\n",
       "      <th>25%</th>\n",
       "      <td>10.660000</td>\n",
       "      <td>10.660000</td>\n",
       "      <td>10.660000</td>\n",
       "      <td>10.660000</td>\n",
       "      <td>10.660000</td>\n",
       "      <td>10.660000</td>\n",
       "      <td>10.660000</td>\n",
       "      <td>10.660000</td>\n",
       "      <td>10.660000</td>\n",
       "      <td>10.660000</td>\n",
       "      <td>...</td>\n",
       "      <td>10.660000</td>\n",
       "      <td>10.660000</td>\n",
       "      <td>10.660000</td>\n",
       "      <td>10.660000</td>\n",
       "      <td>10.660000</td>\n",
       "      <td>10.660000</td>\n",
       "      <td>10.660000</td>\n",
       "      <td>10.660000</td>\n",
       "      <td>10.660000</td>\n",
       "      <td>10.660000</td>\n",
       "    </tr>\n",
       "    <tr>\n",
       "      <th>50%</th>\n",
       "      <td>10.660000</td>\n",
       "      <td>10.660000</td>\n",
       "      <td>10.660000</td>\n",
       "      <td>10.660000</td>\n",
       "      <td>10.660000</td>\n",
       "      <td>10.660000</td>\n",
       "      <td>10.660000</td>\n",
       "      <td>10.660000</td>\n",
       "      <td>10.660000</td>\n",
       "      <td>10.660000</td>\n",
       "      <td>...</td>\n",
       "      <td>10.660000</td>\n",
       "      <td>10.660000</td>\n",
       "      <td>10.660000</td>\n",
       "      <td>10.660000</td>\n",
       "      <td>10.660000</td>\n",
       "      <td>10.660000</td>\n",
       "      <td>10.660000</td>\n",
       "      <td>10.660000</td>\n",
       "      <td>10.660000</td>\n",
       "      <td>10.660000</td>\n",
       "    </tr>\n",
       "    <tr>\n",
       "      <th>75%</th>\n",
       "      <td>10.660000</td>\n",
       "      <td>10.660000</td>\n",
       "      <td>10.660000</td>\n",
       "      <td>10.660000</td>\n",
       "      <td>10.660000</td>\n",
       "      <td>10.660000</td>\n",
       "      <td>10.660000</td>\n",
       "      <td>10.660000</td>\n",
       "      <td>10.660000</td>\n",
       "      <td>10.660000</td>\n",
       "      <td>...</td>\n",
       "      <td>10.660000</td>\n",
       "      <td>10.660000</td>\n",
       "      <td>10.660000</td>\n",
       "      <td>10.660000</td>\n",
       "      <td>10.660000</td>\n",
       "      <td>10.660000</td>\n",
       "      <td>10.660000</td>\n",
       "      <td>10.660000</td>\n",
       "      <td>10.660000</td>\n",
       "      <td>10.660000</td>\n",
       "    </tr>\n",
       "    <tr>\n",
       "      <th>max</th>\n",
       "      <td>10.660000</td>\n",
       "      <td>10.660000</td>\n",
       "      <td>10.660000</td>\n",
       "      <td>10.660000</td>\n",
       "      <td>10.660000</td>\n",
       "      <td>10.660000</td>\n",
       "      <td>10.660000</td>\n",
       "      <td>10.660000</td>\n",
       "      <td>10.660000</td>\n",
       "      <td>10.660000</td>\n",
       "      <td>...</td>\n",
       "      <td>10.660000</td>\n",
       "      <td>10.660000</td>\n",
       "      <td>10.660000</td>\n",
       "      <td>10.660000</td>\n",
       "      <td>10.660000</td>\n",
       "      <td>10.660000</td>\n",
       "      <td>10.660000</td>\n",
       "      <td>10.660000</td>\n",
       "      <td>10.660000</td>\n",
       "      <td>10.660000</td>\n",
       "    </tr>\n",
       "  </tbody>\n",
       "</table>\n",
       "<p>8 rows × 24 columns</p>\n",
       "</div>"
      ],
      "text/plain": [
       "                0            1            2            3            4   \\\n",
       "count  3676.000000  3676.000000  3676.000000  3676.000000  3676.000000   \n",
       "mean     10.660001    10.660001    10.660001    10.660001    10.660001   \n",
       "std       0.000135     0.000135     0.000135     0.000135     0.000135   \n",
       "min      10.660000    10.660000    10.660000    10.660000    10.660000   \n",
       "25%      10.660000    10.660000    10.660000    10.660000    10.660000   \n",
       "50%      10.660000    10.660000    10.660000    10.660000    10.660000   \n",
       "75%      10.660000    10.660000    10.660000    10.660000    10.660000   \n",
       "max      10.660000    10.660000    10.660000    10.660000    10.660000   \n",
       "\n",
       "                5            6            7            8            9   ...  \\\n",
       "count  3676.000000  3676.000000  3676.000000  3676.000000  3676.000000  ...   \n",
       "mean     10.660001    10.660001    10.660001    10.660001    10.660001  ...   \n",
       "std       0.000135     0.000135     0.000135     0.000135     0.000135  ...   \n",
       "min      10.660000    10.660000    10.660000    10.660000    10.660000  ...   \n",
       "25%      10.660000    10.660000    10.660000    10.660000    10.660000  ...   \n",
       "50%      10.660000    10.660000    10.660000    10.660000    10.660000  ...   \n",
       "75%      10.660000    10.660000    10.660000    10.660000    10.660000  ...   \n",
       "max      10.660000    10.660000    10.660000    10.660000    10.660000  ...   \n",
       "\n",
       "                14           15           16           17           18  \\\n",
       "count  3676.000000  3676.000000  3676.000000  3676.000000  3676.000000   \n",
       "mean     10.660001    10.660001    10.660001    10.660001    10.660001   \n",
       "std       0.000135     0.000135     0.000135     0.000135     0.000135   \n",
       "min      10.660000    10.660000    10.660000    10.660000    10.660000   \n",
       "25%      10.660000    10.660000    10.660000    10.660000    10.660000   \n",
       "50%      10.660000    10.660000    10.660000    10.660000    10.660000   \n",
       "75%      10.660000    10.660000    10.660000    10.660000    10.660000   \n",
       "max      10.660000    10.660000    10.660000    10.660000    10.660000   \n",
       "\n",
       "                19           20           21           22           23  \n",
       "count  3676.000000  3676.000000  3676.000000  3676.000000  3676.000000  \n",
       "mean     10.660001    10.660001    10.660001    10.660001    10.660001  \n",
       "std       0.000135     0.000135     0.000135     0.000135     0.000135  \n",
       "min      10.660000    10.660000    10.660000    10.660000    10.660000  \n",
       "25%      10.660000    10.660000    10.660000    10.660000    10.660000  \n",
       "50%      10.660000    10.660000    10.660000    10.660000    10.660000  \n",
       "75%      10.660000    10.660000    10.660000    10.660000    10.660000  \n",
       "max      10.660000    10.660000    10.660000    10.660000    10.660000  \n",
       "\n",
       "[8 rows x 24 columns]"
      ]
     },
     "execution_count": 15,
     "metadata": {},
     "output_type": "execute_result"
    }
   ],
   "source": [
    "y_pred.describe()"
   ]
  },
  {
   "cell_type": "code",
   "execution_count": 24,
   "metadata": {},
   "outputs": [
    {
     "data": {
      "text/plain": [
       "<Axes: >"
      ]
     },
     "execution_count": 24,
     "metadata": {},
     "output_type": "execute_result"
    },
    {
     "data": {
      "image/png": "[encoded data removed]",
      "text/plain": [
       "<Figure size 640x480 with 1 Axes>"
      ]
     },
     "metadata": {},
     "output_type": "display_data"
    }
   ],
   "source": [
    "price_df = pd.DataFrame(avax_lstm.scaler.inverse_transform(avax_lstm.Y_test[:, 0]))\n",
    "price_df['pred'] = y_pred[0]\n",
    "sns.lineplot(data=price_df, color='blue')"
   ]
  },
  {
   "cell_type": "code",
   "execution_count": 25,
   "metadata": {},
   "outputs": [
    {
     "data": {
      "text/plain": [
       "<Axes: >"
      ]
     },
     "execution_count": 25,
     "metadata": {},
     "output_type": "execute_result"
    },
    {
     "data": {
      "image/png": "[encoded data removed]",
      "text/plain": [
       "<Figure size 640x480 with 1 Axes>"
      ]
     },
     "metadata": {},
     "output_type": "display_data"
    }
   ],
   "source": [
    "price_df = pd.DataFrame(avax_lstm.scaler.inverse_transform(avax_lstm.Y_test[:, 6]))\n",
    "price_df['pred'] = y_pred[6]\n",
    "sns.lineplot(data=price_df, color='blue')"
   ]
  },
  {
   "cell_type": "code",
   "execution_count": 42,
   "metadata": {},
   "outputs": [
    {
     "name": "stdout",
     "output_type": "stream",
     "text": [
      "1/1 [==============================] - 0s 35ms/step\n"
     ]
    }
   ],
   "source": [
    "pr = avax_model.predict(avax_lstm.X_test[900].reshape(1, avax_lstm.X_test[0].shape[0], avax_lstm.X_test[0].shape[1]))"
   ]
  },
  {
   "cell_type": "code",
   "execution_count": 43,
   "metadata": {},
   "outputs": [
    {
     "data": {
      "text/plain": [
       "0.0"
      ]
     },
     "execution_count": 43,
     "metadata": {},
     "output_type": "execute_result"
    }
   ],
   "source": [
    "pr[0][0]"
   ]
  },
  {
   "cell_type": "code",
   "execution_count": 47,
   "metadata": {},
   "outputs": [
    {
     "data": {
      "text/plain": [
       "array([[10.66, 10.66, 10.66, 10.66, 10.66, 10.66, 10.66, 10.66, 10.66,\n",
       "        10.66, 10.66, 10.66, 10.66, 10.66, 10.66, 10.66, 10.66, 10.66,\n",
       "        10.66, 10.66, 10.66, 10.66, 10.66, 10.66]], dtype=float32)"
      ]
     },
     "execution_count": 47,
     "metadata": {},
     "output_type": "execute_result"
    }
   ],
   "source": [
    "p = avax_lstm.scaler.inverse_transform(pr)\n",
    "p"
   ]
  }
 ],
 "metadata": {
  "kernelspec": {
   "display_name": "crypto_rnns",
   "language": "python",
   "name": "python3"
  },
  "language_info": {
   "codemirror_mode": {
    "name": "ipython",
    "version": 3
   },
   "file_extension": ".py",
   "mimetype": "text/x-python",
   "name": "python",
   "nbconvert_exporter": "python",
   "pygments_lexer": "ipython3",
   "version": "3.9.18"
  }
 },
 "nbformat": 4,
 "nbformat_minor": 2
}
